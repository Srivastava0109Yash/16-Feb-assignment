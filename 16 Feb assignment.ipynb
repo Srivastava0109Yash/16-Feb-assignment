{
 "cells": [
  {
   "cell_type": "markdown",
   "id": "36987a1a",
   "metadata": {},
   "source": [
    "### Q1. What is a database? Differentiate between SQL and NoSQL databases."
   ]
  },
  {
   "cell_type": "markdown",
   "id": "f41d0e3b",
   "metadata": {},
   "source": [
    "A database is an organized collection of data that can be stored and accessed electronically. It is designed to efficiently store, retrieve, and manage large amounts of structured or unstructured data."
   ]
  },
  {
   "cell_type": "markdown",
   "id": "1e1204ee",
   "metadata": {},
   "source": [
    "SQL (Structured Query Language) databases are relational databases that store data in tables with predefined relationships between them. SQL databases are based on a set of rules called ACID (Atomicity, Consistency, Isolation, Durability) that ensure data consistency and integrity. SQL databases use SQL to manage and query the data. Examples of SQL databases include Oracle, MySQL, and Microsoft SQL Server.\n",
    "\n",
    "NoSQL (Not Only SQL) databases are non-relational databases that do not store data in tables with predefined relationships. NoSQL databases are designed to handle large amounts of unstructured or semi-structured data, and can be more flexible and scalable than SQL databases. NoSQL databases do not follow the ACID rules, but instead focus on other principles such as BASE (Basically Available, Soft state, Eventual consistency). NoSQL databases use various languages to manage and query the data, such as MongoDB that uses a document-oriented approach or Cassandra that uses a column-oriented approach"
   ]
  },
  {
   "cell_type": "markdown",
   "id": "3945ff2d",
   "metadata": {},
   "source": [
    "### Q2. What is DDL? Explain why CREATE, DROP, ALTER, and TRUNCATE are used with an example."
   ]
  },
  {
   "cell_type": "markdown",
   "id": "b3ce1a52",
   "metadata": {},
   "source": [
    "DDL (Data Definition Language) is a subset of SQL (Structured Query Language) used to define and manage the structure of a database. DDL commands are used to create, modify, and delete database objects such as tables, indexes, and views."
   ]
  },
  {
   "cell_type": "markdown",
   "id": "5efd1f28",
   "metadata": {},
   "source": [
    "1. __CREATE__: The CREATE command is used to create a new database object."
   ]
  },
  {
   "cell_type": "markdown",
   "id": "4bce2d17",
   "metadata": {},
   "source": [
    "CREATE TABLE employees (\n",
    "  id INT PRIMARY KEY,\n",
    "  name VARCHAR(50),\n",
    "  salary DECIMAL(10,2)\n",
    ");"
   ]
  },
  {
   "cell_type": "markdown",
   "id": "d7e62047",
   "metadata": {},
   "source": [
    "2. __DROP__: The DROP command is used to delete a database object."
   ]
  },
  {
   "cell_type": "markdown",
   "id": "bea750b5",
   "metadata": {},
   "source": [
    "DROP TABLE employees;"
   ]
  },
  {
   "cell_type": "markdown",
   "id": "b33d38a6",
   "metadata": {},
   "source": [
    "3. __ALTER__: The ALTER command is used to modify the structure of an existing database object."
   ]
  },
  {
   "cell_type": "markdown",
   "id": "f9753094",
   "metadata": {},
   "source": [
    "ALTER TABLE employees ADD COLUMN department VARCHAR(50);"
   ]
  },
  {
   "cell_type": "markdown",
   "id": "be9e2002",
   "metadata": {},
   "source": [
    "4. __TRUNCATE__: The TRUNCATE command is used to delete all rows from a table while keeping the structure of the table intact."
   ]
  },
  {
   "cell_type": "markdown",
   "id": "20653021",
   "metadata": {},
   "source": [
    "TRUNCATE TABLE employees;"
   ]
  },
  {
   "cell_type": "markdown",
   "id": "bfd97778",
   "metadata": {},
   "source": [
    "### Q3. What is DML? Explain INSERT, UPDATE, and DELETE with an example."
   ]
  },
  {
   "cell_type": "markdown",
   "id": "4a064a28",
   "metadata": {},
   "source": [
    "DML (Data Manipulation Language) is a subset of SQL (Structured Query Language) used to manage the data stored in a database. DML commands are used to insert, modify, and delete data in the database tables."
   ]
  },
  {
   "cell_type": "markdown",
   "id": "c251280c",
   "metadata": {},
   "source": [
    "1.  __INSERT__: The INSERT command is used to insert new data into a table."
   ]
  },
  {
   "cell_type": "markdown",
   "id": "1e6c24a3",
   "metadata": {},
   "source": [
    "INSERT INTO employees (id, name, salary, department)\n",
    "VALUES (1, 'John Doe', 50000, 'Sales');"
   ]
  },
  {
   "cell_type": "markdown",
   "id": "1477608f",
   "metadata": {},
   "source": [
    "2. __UPDATE__: The UPDATE command is used to modify existing data in a table."
   ]
  },
  {
   "cell_type": "markdown",
   "id": "887dbdbd",
   "metadata": {},
   "source": [
    "UPDATE employees SET salary = 60000 WHERE id = 1;"
   ]
  },
  {
   "cell_type": "markdown",
   "id": "7ea77b6a",
   "metadata": {},
   "source": [
    "3. __DELETE__: The DELETE command is used to delete data from a table"
   ]
  },
  {
   "cell_type": "markdown",
   "id": "619ac5ea",
   "metadata": {},
   "source": [
    "DELETE FROM employees WHERE id = 1;"
   ]
  },
  {
   "cell_type": "markdown",
   "id": "028c7c81",
   "metadata": {},
   "source": [
    "### Q4. What is DQL? Explain SELECT with an example."
   ]
  },
  {
   "cell_type": "markdown",
   "id": "62ed14c6",
   "metadata": {},
   "source": [
    "DQL (Data Query Language) is a subset of SQL (Structured Query Language) used to retrieve data from a database. DQL commands are used to query the database tables and retrieve the necessary data"
   ]
  },
  {
   "cell_type": "markdown",
   "id": "930ba7cf",
   "metadata": {},
   "source": [
    "--> The primary DQL command is SELECT.  SELECT is used to retrieve data from one or more tables in a database. "
   ]
  },
  {
   "cell_type": "markdown",
   "id": "8098a33f",
   "metadata": {},
   "source": [
    "syntax:"
   ]
  },
  {
   "cell_type": "markdown",
   "id": "d7ce7b77",
   "metadata": {},
   "source": [
    "SELECT column1, column2, ... FROM table_name WHERE condition;"
   ]
  },
  {
   "cell_type": "markdown",
   "id": "bd92da90",
   "metadata": {},
   "source": [
    "Example:"
   ]
  },
  {
   "cell_type": "markdown",
   "id": "ad809fb9",
   "metadata": {},
   "source": [
    "SELECT name, salary FROM employees WHERE salary >= 50000;"
   ]
  },
  {
   "cell_type": "markdown",
   "id": "f441f196",
   "metadata": {},
   "source": [
    "### Q5. Explain Primary Key and Foreign Key."
   ]
  },
  {
   "cell_type": "markdown",
   "id": "72cbd558",
   "metadata": {},
   "source": [
    "__Primary Key__: A Primary Key is a column or set of columns that uniquely identifies each row in a table. It is a unique identifier that is used to enforce data integrity and ensure that there are no duplicate rows in the table. A Primary Key is used to create a relationship between tables in a database, as it can be referenced by other tables as a Foreign Key."
   ]
  },
  {
   "cell_type": "markdown",
   "id": "f734797d",
   "metadata": {},
   "source": [
    "__Foreign Key__: A Foreign Key is a column or set of columns that references a Primary Key in another table. It is used to establish a relationship between tables in a database, allowing data to be linked and related across multiple tables. A Foreign Key is used to enforce referential integrity, which ensures that data in related tables is consistent."
   ]
  },
  {
   "cell_type": "markdown",
   "id": "f282b905",
   "metadata": {},
   "source": [
    "In summary, a Primary Key is a unique identifier for each row in a table that is used to enforce data integrity and create relationships between tables, while a Foreign Key is a column that references a Primary Key in another table, allowing data to be linked and related across multiple tables. "
   ]
  },
  {
   "cell_type": "markdown",
   "id": "df156f34",
   "metadata": {},
   "source": [
    "### Q6. Write a python code to connect MySQL to python. Explain the cursor() and execute() method."
   ]
  },
  {
   "cell_type": "markdown",
   "id": "c9d035e1",
   "metadata": {},
   "source": [
    "To connect to MySQL from Python, we can use the mysql-connector-python module, which is a Python driver for MySQL. "
   ]
  },
  {
   "cell_type": "code",
   "execution_count": null,
   "id": "ce2b677c",
   "metadata": {},
   "outputs": [],
   "source": [
    "import mysql.connector\n",
    "\n",
    "# Establish a connection to the database\n",
    "db = mysql.connector.connect(\n",
    "  host=\"localhost\",\n",
    "  user=\"yourusername\",\n",
    "  password=\"yourpassword\",\n",
    "  database=\"yourdatabase\"\n",
    ")\n",
    "\n",
    "# Create a cursor object to execute SQL queries\n",
    "cursor = db.cursor()\n",
    "\n",
    "# Execute a SQL query\n",
    "cursor.execute(\"SELECT * FROM yourtable\")\n",
    "\n",
    "# Fetch the result of the query\n",
    "result = cursor.fetchall()\n",
    "\n",
    "# Print the result\n",
    "for row in result:\n",
    "    print(row)\n",
    "\n",
    "# Close the database connection\n",
    "db.close()"
   ]
  },
  {
   "cell_type": "markdown",
   "id": "393f547b",
   "metadata": {},
   "source": [
    "we create a 'cursor' object using the 'cursor()' method of the database object. The cursor object is used to execute SQL queries on the database.\n",
    "\n",
    "We then use the 'execute()' method of the cursor object to execute a SQL query. In this example, we are selecting all the records from the yourtable table.\n",
    "\n",
    "We fetch the result of the query using the 'fetchall()' method of the cursor object. The result is stored in the result variable.\n",
    "\n",
    "Finally, we loop through the result and print each row.\n",
    "\n",
    "The 'cursor()' method creates a cursor object, which is used to execute SQL queries on the database. The 'execute()' method is used to execute a SQL query. It takes a SQL query string as a parameter and executes the query on the database."
   ]
  },
  {
   "cell_type": "markdown",
   "id": "e79d141e",
   "metadata": {},
   "source": [
    "### Q7. Give the order of execution of SQL clauses in an SQL query."
   ]
  },
  {
   "cell_type": "markdown",
   "id": "4550228f",
   "metadata": {},
   "source": [
    "The order of execution of SQL clauses in an SQL query is as follows:\n",
    "\n",
    "FROM: This clause specifies the tables from which the data is retrieved.\n",
    "\n",
    "JOIN: This clause is used to combine rows from two or more tables based on a related column between them.\n",
    "\n",
    "WHERE: This clause is used to filter the rows based on a specified condition.\n",
    "\n",
    "GROUP BY: This clause is used to group the rows based on a specified column or set of columns.\n",
    "\n",
    "HAVING: This clause is used to filter the groups based on a specified condition.\n",
    "\n",
    "SELECT: This clause specifies the columns that are returned in the result set.\n",
    "\n",
    "DISTINCT: This clause is used to remove duplicate rows from the result set.\n",
    "\n",
    "ORDER BY: This clause is used to sort the result set based on a specified column or set of columns.\n",
    "\n",
    "LIMIT: This clause is used to limit the number of rows returned in the result set."
   ]
  }
 ],
 "metadata": {
  "kernelspec": {
   "display_name": "Python 3 (ipykernel)",
   "language": "python",
   "name": "python3"
  },
  "language_info": {
   "codemirror_mode": {
    "name": "ipython",
    "version": 3
   },
   "file_extension": ".py",
   "mimetype": "text/x-python",
   "name": "python",
   "nbconvert_exporter": "python",
   "pygments_lexer": "ipython3",
   "version": "3.9.13"
  }
 },
 "nbformat": 4,
 "nbformat_minor": 5
}
